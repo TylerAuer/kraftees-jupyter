{
 "metadata": {
  "language_info": {
   "codemirror_mode": {
    "name": "ipython",
    "version": 3
   },
   "file_extension": ".py",
   "mimetype": "text/x-python",
   "name": "python",
   "nbconvert_exporter": "python",
   "pygments_lexer": "ipython3",
   "version": "3.8.2"
  },
  "orig_nbformat": 2,
  "kernelspec": {
   "name": "python382jvsc74a57bd04716100f18ba27927ede75df52bf08e3d08fefa2f102965fe348a5001cf48e45",
   "display_name": "Python 3.8.2 64-bit ('3.8.2': pyenv)"
  }
 },
 "nbformat": 4,
 "nbformat_minor": 2,
 "cells": [
  {
   "source": [
    "# First attempt at a Jupyter Notebook\n",
    "\n",
    "This is just a first attempt at exploring how one of these notebooks works. Here's a recursive fibonacci number algorithm.\n"
   ],
   "cell_type": "markdown",
   "metadata": {}
  },
  {
   "cell_type": "code",
   "execution_count": 9,
   "metadata": {},
   "outputs": [
    {
     "output_type": "stream",
     "name": "stdout",
     "text": [
      "55\n"
     ]
    }
   ],
   "source": [
    "def fib(n):\n",
    "    if n <= 2:\n",
    "        # Base case the 1st and 2nd fibonnaci numbers are 1 by definition\n",
    "        return 1\n",
    "    \n",
    "    else:\n",
    "        # Recursive case\n",
    "        return fib(n-2) + fib(n-1)\n",
    "\n",
    "print(fib(10))"
   ]
  },
  {
   "source": [
    "This algorithm is simple to read, but it is brutally inefficient.\n",
    "\n",
    "A fibonacci function should be really fast because it should only have to do _n_ - 1 additions. But, this function is actually going to do _n_*_n_-1 additions. This happens because the recursion is _dumb_. It recalculates values it has already seen before.\n",
    "\n",
    "For example, the first time the function is called, n = 10. So the function reaches the recursive case and branches off into two separate function calls: `fib(8)` and `fib(9)`.\n",
    "\n",
    "The problem here is that `fib(8)` and `fib(9)` don't know about each other. Both will each branch on their own into two new function calls. And those function calls will repeat work. For example, both will need to call `fib(7)`. That repeated work means the computer is doing more work than it needs to. \n",
    "\n",
    "It should only need to call `fib()` 10 total times. So let's see how many times it is calling `fib()`"
   ],
   "cell_type": "markdown",
   "metadata": {}
  },
  {
   "cell_type": "code",
   "execution_count": 4,
   "metadata": {},
   "outputs": [
    {
     "output_type": "stream",
     "name": "stdout",
     "text": [
      "Fib() was called 109 times.\n"
     ]
    }
   ],
   "source": [
    "counter = 0\n",
    "def fib(n):\n",
    "    global counter\n",
    "    counter += 1\n",
    "    if n <= 2:\n",
    "        return 1\n",
    "    \n",
    "    else:\n",
    "        return fib(n-2) + fib(n-1)\n",
    "\n",
    "fib(10)\n",
    "print(f'Fib() was called {counter} times.')"
   ]
  },
  {
   "source": [
    "Holy moly! That's too many times! Let's track what _n_s are passed into `fib(n)`\n"
   ],
   "cell_type": "markdown",
   "metadata": {}
  },
  {
   "cell_type": "code",
   "execution_count": 3,
   "metadata": {},
   "outputs": [
    {
     "output_type": "stream",
     "name": "stdout",
     "text": [
      "f(10) called 1 times\nf(8) called 2 times\nf(6) called 5 times\nf(4) called 13 times\nf(2) called 34 times\nf(3) called 21 times\nf(1) called 21 times\nf(5) called 8 times\nf(7) called 3 times\nf(9) called 1 times\n"
     ]
    }
   ],
   "source": [
    "n_counter = {}\n",
    "\n",
    "def fib(n):\n",
    "    # Update our our counts\n",
    "    global n_counter\n",
    "    if not n in n_counter:\n",
    "        n_counter[n] = 1\n",
    "    else: \n",
    "        n_counter[n] += 1\n",
    "    \n",
    "    if n <= 2:\n",
    "        return 1\n",
    "    \n",
    "    else:\n",
    "        return fib(n-2) + fib(n-1)\n",
    "\n",
    "fib(10)\n",
    "\n",
    "# Print out how many times each was called\n",
    "for n in n_counter:\n",
    "    print(f'f({n}) called {n_counter[n]} times')"
   ]
  },
  {
   "source": [
    "The higher *n* values aren't too bad, but `f(2)` is called 34 times! What!?\n",
    "\n",
    "Well, that's because as our recursive function is called again and again, new branches keep forking off. Each branch is independent of the others and can't reuse the answers from the other branches. So, every branch has to compute `f(2)`. On it's own. And, sure, it can do that pretty quickly, but at some point the number of branches gets **SO** big that it doesn't matter how quickly the computer can handle any step, there are just too many steps.\n",
    "\n",
    "This time, let's try `fib(20)` and see how many times just `fib(2)` is called."
   ],
   "cell_type": "markdown",
   "metadata": {}
  },
  {
   "cell_type": "code",
   "execution_count": 8,
   "metadata": {},
   "outputs": [
    {
     "output_type": "stream",
     "name": "stdout",
     "text": [
      "fib(2) was called 4181 times.\nfib(anything) was called 13529 times.\n"
     ]
    }
   ],
   "source": [
    "fib_of_anything_counter = 0\n",
    "fib_of_two_counter = 0\n",
    "\n",
    "def fib(n):\n",
    "    # Update our our counts\n",
    "    global fib_of_two_counter\n",
    "    global fib_of_anything_counter\n",
    "    \n",
    "    fib_of_anything_counter += 1\n",
    "    if n == 2:\n",
    "        fib_of_two_counter += 1\n",
    "    \n",
    "    if n <= 2:\n",
    "        return 1\n",
    "    else:\n",
    "        return fib(n-2) + fib(n-1)\n",
    "\n",
    "fib(20)\n",
    "\n",
    "print(f'fib(2) was called {fib_of_two_counter} times.')\n",
    "print(f'fib(anything) was called {fib_of_anything_counter} times.')"
   ]
  },
  {
   "source": [
    "Woah! `fib(2)` was called 4181 times and `fib()` was called a total of 13529 times.\n",
    "\n",
    "In Computer Science, we measure the speed of an algorithm using Big O Notation which is meant to capture how the runtime grows as the number of elements increases. For `fib(10)` the algorithm ran 109 times. You can think of it as having 109 steps. But, when we doubled *n* the number of steps shot up to 13,529! That's about a 124 times increase in the number of steps. Big O Notation is just a way of describing how the number of steps changed as we increase *n*.\n",
    "\n",
    "If the number of steps hadn't changed, this would have been a constant runtime, abbreviated as O(1). If increasing n by 10 increased the steps by 10, the runtime would be linear, O(n). This is worse than both of those. It's something like O(n^2).\n",
    "\n",
    "But, we can do better. Here's a non recursive apprach."
   ],
   "cell_type": "markdown",
   "metadata": {}
  },
  {
   "cell_type": "code",
   "execution_count": 14,
   "metadata": {},
   "outputs": [
    {
     "output_type": "stream",
     "name": "stdout",
     "text": [
      "fib(10) used 8 steps to solve this.\nfib(20) used 18 steps to solve this.\n"
     ]
    },
    {
     "output_type": "execute_result",
     "data": {
      "text/plain": [
       "6765"
      ]
     },
     "metadata": {},
     "execution_count": 14
    }
   ],
   "source": [
    "def fib(n):\n",
    "    nth = n\n",
    "\n",
    "    if n <= 2:\n",
    "        return 1\n",
    "    \n",
    "    previous_previous_fib = 0\n",
    "    previous_fib = 1\n",
    "    current_fib = 1\n",
    "\n",
    "    counter = 0\n",
    "\n",
    "    while n > 2:\n",
    "        counter += 1\n",
    "\n",
    "        previous_previous_fib = previous_fib\n",
    "        previous_fib = current_fib\n",
    "        current_fib = previous_previous_fib + previous_fib\n",
    "        \n",
    "        n -= 1\n",
    "    \n",
    "    print(f'fib({nth}) used {counter} steps to solve this.')\n",
    "    return current_fib\n",
    "\n",
    "fib(10)\n",
    "fib(20)"
   ]
  },
  {
   "source": [],
   "cell_type": "markdown",
   "metadata": {}
  },
  {
   "source": [
    "How 'bout them apples. This time `fib(20)` Only took 18 steps. That's a hair better than 13,529 steps.\n",
    "\n",
    "Notice, also, that increase *n* by 10 only increase our steps by 10. That means this algorithm is linear! O(n)."
   ],
   "cell_type": "markdown",
   "metadata": {}
  }
 ]
}